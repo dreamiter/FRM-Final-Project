{
 "cells": [
  {
   "cell_type": "markdown",
   "metadata": {},
   "source": [
    "$$\\centerline{\\textbf{MATH 5320 - Financial Risk Management and Regulation}}$$\n",
    "$$\\newline$$\n",
    "$$\\newline$$\n",
    "$$\\newline$$\n",
    "$$\\newline$$\n",
    "$$\\newline$$"
   ]
  },
  {
   "cell_type": "markdown",
   "metadata": {},
   "source": [
    "$$\\newline$$\n",
    "$$\\newline$$\n",
    "$$\\newline$$\n",
    "$$\\newline$$\n",
    "$$\\newline$$\n",
    "$$\\newline$$\n",
    "$$\\centerline{\\textbf{Authors}}$$\n",
    "$$\\newline$$\n",
    "$$\\newline$$\n",
    "$$\\centerline{Yifan Wu (yw3101)}$$\n",
    "$$\\centerline{Yiding Xie (yx2443)}$$\n",
    "$$\\centerline{Qianfeng Ying (qy2187)}$$\n"
   ]
  },
  {
   "cell_type": "markdown",
   "metadata": {},
   "source": [
    "$\\pagebreak$"
   ]
  },
  {
   "cell_type": "markdown",
   "metadata": {},
   "source": [
    "# Table of Contents\n",
    "\n",
    "2. Executive Summary$\\newline$\n",
    "3. Introduction$\\newline$\n",
    "    3.1 Risk Measure$\\newline$\n",
    "    3.2 Advantages and Disadvantages$\\newline$\n",
    "4. Model Descriptions$\\newline$\n",
    "    4.1 Value at Risk (VaR) & Expected Shortfall (ES)$\\newline$\n",
    "    4.2 Parametric VaR$\\newline$\n",
    "    4.3 Historic VaR$\\newline$\n",
    "    4.4 Monte Carlo VaR$\\newline$\n",
    "    4.5 Historic ES$\\newline$\n",
    "    4.6 Monte Carlo ES$\\newline$\n",
    "5. Risk Modeling$\\newline$\n",
    "    5.1 Test Software$\\newline$\n",
    "    5.2 Test Plan$\\newline$\n",
    "    5.3 Data Collection$\\newline$\n",
    "        5.3.1 Data$\\newline$\n",
    "        5.3.2 Window Size$\\newline$\n",
    "    5.4 System Requirements$\\newline$\n",
    "    5.5 System Instruction$\\newline$\n",
    "6. Results Analysis$\\newline$\n",
    "    6.1 Data$\\newline$\n",
    "    6.2 Assumptions$\\newline$\n",
    "    6.3 Sample Results$\\newline$\n",
    "7. References$\\newline$\n",
    "8. Appendix"
   ]
  },
  {
   "cell_type": "markdown",
   "metadata": {},
   "source": [
    "$\\pagebreak$"
   ]
  },
  {
   "cell_type": "markdown",
   "metadata": {},
   "source": [
    "# Executive Summary\n"
   ]
  },
  {
   "cell_type": "markdown",
   "metadata": {},
   "source": [
    "\n",
    "This document serves as the term project of **MATH 5320 - Financial Risk Management and Regulation**. This document is a collaborative effort among Yifan Wu, Yiding Xie, and Qianfeng Ying.\n",
    "\n",
    "In this document, we constructed a risk calculation system using the various pieces of knowledge we learned from Dr. Harvey J. Stein in class.\n",
    "\n",
    "The risk calculation system we developed has the following capabilities:\n",
    "\n",
    " - Take a portfolio of stock and option positions as input\n",
    " \n",
    " - System is calibrated to historical data and take parameters as input\n",
    " \n",
    " - The calculation includes:\n",
    " \n",
    "     - Parametric VaR\n",
    "     \n",
    "     - Historical VaR\n",
    "     \n",
    "     - Monte Carlo VaR\n",
    "     \n",
    "     - Historical ES\n",
    "     \n",
    "     - Monte Carlo ES\n",
    "     \n",
    " - The computed VaRs are backtested against history\n",
    "\n",
    "A vast majority of the codes used in our term projects came from our previous homeworks. In addition, we have chosen models and methodologies, document and justify the choices and write and test the code. \n",
    "\n",
    "A web-based risk management calculation system is also produced and the link is attached below:\n",
    "[Program Link](https://github.com/dreamiter/FRM-Final-Project)\n",
    "\n",
    "Series of plots were attached for reference later in this report. A sample portfolio was constructed using AAPL, BAC, GE, and M.\n",
    "\n",
    "Detailed code used in our project is listed in the Appendix at the end of this document."
   ]
  },
  {
   "cell_type": "markdown",
   "metadata": {},
   "source": [
    "$\\pagebreak$"
   ]
  },
  {
   "cell_type": "markdown",
   "metadata": {},
   "source": [
    "# Introduction"
   ]
  },
  {
   "cell_type": "markdown",
   "metadata": {},
   "source": [
    "This document serves as the term project of MATH 5320 - Financial Risk Management and Regulation. In this document, we constructed a risk calculation system using the various pieces of knowledge we learned in class. \n",
    "\n",
    "We cover the computations of Parametric VaR, Historical VaR, Monte Carlo VaR, Historical ES, and Monte Carlo ES for any portfolio of stock and option positions as input. In addition, we have chosen models and methodologies, document and justify the choices and write and test the code.\n",
    "\n",
    "In parametric VaR and Monte Carlo VaR estimations, the system computes relevant parameters from historical data. In historical VaR estimation, the system uses historical data directly. Parametric VaR, historical VaR, and Monte Carlo Var estimations take different assumptions and compute VaR by standard equations, ranking historical losses, and ranking simulated outcomes respectively. Similar calculation is also done for historical ES and Monte Carlo ES. A detailed description of all these calculations is shown in the following sections."
   ]
  },
  {
   "cell_type": "markdown",
   "metadata": {},
   "source": [
    "## Risk Measure"
   ]
  },
  {
   "cell_type": "markdown",
   "metadata": {},
   "source": [
    "Coherence is really important when defining a risk measurement. If the measure is not coherent, it will not give us adequate information about the risk of our portfolio. For that reason, there are usually four properties required by any risk measure. In the lecture, we learned five properties.\n",
    "\n",
    "1. Monotonic: if a portfolio achieves higher returns than another in every state of the world, then it will have lower risk, or $V \\leq V' \\implies \\rho(V) \\geq \\rho(V')$\n",
    "2. Positive homogeneity: maintaining the weights, if the size of a portfolio is increased by a factor, the risk will be multiplied by the same factor, or $\\rho(\\alpha V) = \\alpha \\rho(V)$ when $\\alpha \\geq 0$\n",
    "3. Translation invariance: if an amount of cash is added to our portfolio, the risk will be reduced by that amount. For a constant $a$, $\\rho(V+a)=\\rho(V)-a$\n",
    "4. Subadditive: the risk measure of two merged portfolios should be lower than the sum of their risk measures individually, or $\\rho(V+V') \\leq \\rho(V) + \\rho(V')$"
   ]
  },
  {
   "cell_type": "markdown",
   "metadata": {},
   "source": [
    "## Advantages and Disadvantages"
   ]
  },
  {
   "cell_type": "markdown",
   "metadata": {},
   "source": [
    "In terms of the entire system, the greatest advantage is flexibility. As discussed earlier, the input of this risk calculation system is a portfolio of stock and option positions. Specifically, there is no constraint on the total number of stocks or options, and there's no requirement on the long/short positions.\n",
    "\n",
    "The document shall also disclose the pros and cons for each type of methodology in later sections."
   ]
  },
  {
   "cell_type": "markdown",
   "metadata": {},
   "source": [
    "$\\pagebreak$"
   ]
  },
  {
   "cell_type": "markdown",
   "metadata": {},
   "source": [
    "# Model Description\n"
   ]
  },
  {
   "cell_type": "markdown",
   "metadata": {},
   "source": [
    "## Value at Risk (VaR) & Expected Shortfall (ES)"
   ]
  },
  {
   "cell_type": "markdown",
   "metadata": {},
   "source": [
    "VaR and ES are the two main metrics used in risk management. Value at Risk (VAR) is defined as the most amount of money you are willing to lose given a certain confidence interval and over a defined period of time. In other words, for a given portfolio, time horizon, and probability $p$, the $p$ VaR can be defined informally as the maximum possible loss during the time if we exclude worse outcomes whose probability is less than $p$. Expected Shortfall is defined as the average of all losses which are greater or equal than VaR, i.e. the average loss in the worst (1-$p$)% cases, where $p$ is the confidence level.\n",
    "\n",
    "Following the lecture notes, we can also mathematically define them as below:\n",
    "\n",
    "\n",
    "\n",
    "**VaR:**\n",
    "$$VaR(V,T,P)=G^{-1}(P)$$    $$where\\,G(X)=P[V_0-V_T\\leq X]=E^p[1_{{V_0-V_T}\\leq x}]$$\n",
    "\n",
    "\n",
    "**ES:**\n",
    "$$ES(V,T,P)=-E^p[V_T-V_0|V_T-V_0<-VaR(V_T, p)]=E^p[V_0-V_T|V_0-V_T>VaR(V_T, p)]$$\n",
    "\n",
    "Refering the risk measure back to the previous section, the Value at Risk measure always satisfies the first three properties but it will only satisfy the fourth one if portfolio returns follow a normal distribution. On the other hand, the Expected Shortfall measure satisfies the four properties in any circumstance."
   ]
  },
  {
   "cell_type": "markdown",
   "metadata": {},
   "source": [
    "## Parametric VaR\n"
   ]
  },
  {
   "cell_type": "markdown",
   "metadata": {},
   "source": [
    "### Model Assumption"
   ]
  },
  {
   "cell_type": "markdown",
   "metadata": {},
   "source": [
    "The parametric method VAR (also known as Variance/Covariance VAR) calculation is the most common form used in practice with hedge fund managers. This method is the popular because the only variables you need to do the calculation are the mean and standard deviation of the portfolio.\n",
    "\n",
    "For parametric VaR of a single stock, the basic assumption is that the stock price follows a Geometric Brownian Motion. This means that at a given time, the distribution of stock price is a log normal distribution. When calculating parametric VaR of an option, we assume that the underlying stock price follows a Geometric Brownian Motion. When calculating parametric VaR of a portfolio, we assume that the value of the portfolio is under a normal distribution."
   ]
  },
  {
   "cell_type": "markdown",
   "metadata": {},
   "source": [
    "### Model Input"
   ]
  },
  {
   "cell_type": "markdown",
   "metadata": {},
   "source": [
    "As discussed in section above, due to the simplicity of this model, only three inputs are needed: mean and standard deviation of the portfolio returns and the time horizons. In other words, both the mean returns and the variance/covariance matrix of the portfolio returns need to be provided as inputs."
   ]
  },
  {
   "cell_type": "markdown",
   "metadata": {},
   "source": [
    "### Model Definition\n"
   ]
  },
  {
   "cell_type": "markdown",
   "metadata": {},
   "source": [
    "Following lecture 4 slide (Page 25 - 27), we can define the following (Given there are only two assets in one portfolio):\n",
    "\n",
    "\n",
    "$$V_t=aS_{1,t}+bS_{2,t}$$\n",
    "\n",
    "$$dS_i = \\mu_i S_i dt+\\sigma_i S_i dW_i$$\n",
    "\n",
    "$$dW_1dW_2=\\rho dt$$\n",
    "\n",
    "$$E[S_{1,t}S_{2,t}]=S_{1,0}S_{2,0}e^{(\\mu_1+\\mu_2+\\rho\\sigma_1\\sigma_2)t}$$\n",
    "\n",
    "$$E[V_t]=aS_{1,0}e^{\\mu _1t}+bS_{2,0}e^{\\mu _2t}$$\n",
    "\n",
    "$$E[V_t^2]=a^2S_{1,0}^2e^{(2\\mu _1+\\sigma_1^2)t}+b^2S_{2,0}^2e^{(2\\mu _2+\\sigma_2^2)t}+2abS_{1,0}S_{2,0}e^{(\\mu_1+\\mu_2+\\rho\\sigma_1\\sigma_2)t}$$\n",
    "\n",
    "$$var[V_t]=E[V_t^2]-E[V_t]^2$$\n",
    "\n",
    "\n",
    "When there are more than two assets in the portfolio, we can certainly easily expand above equations to multi-variate space."
   ]
  },
  {
   "cell_type": "markdown",
   "metadata": {},
   "source": [
    "### Advantage & Disadvantage"
   ]
  },
  {
   "cell_type": "markdown",
   "metadata": {},
   "source": [
    "The strengths of this method are the simplicity of the calculations and the fact that the data for the inputs is very easy to obtain. Since mean and standard deviation of the portfolio are the only input parameters, this method becomes very popular.\n",
    "\n",
    "The biggest weakness of this method is the assumption of normality. In practice, this assumption of return normality has proven to be extremely risky. Indeed, this was the biggest mistake that LTCM made it gravely underestimating their portfolio risks."
   ]
  },
  {
   "cell_type": "markdown",
   "metadata": {},
   "source": [
    "## Historical VaR"
   ]
  },
  {
   "cell_type": "markdown",
   "metadata": {},
   "source": [
    "### Model Assumption"
   ]
  },
  {
   "cell_type": "markdown",
   "metadata": {},
   "source": [
    "Historical VAR is a better methodology to use if you cannot determine the distribution of your return series. This calculation is much easier than even the Parametric VAR calculation in that all you are doing is literally ranking all of your past historical returns in terms of lowest to highest and computing with a predetermined confidence rate what your lowest return historically has been. \n",
    "\n",
    "That is, there is no explicit assumption for Historical VaR calculation. However, since we are using historical data of a portfolio to predict its own future, we are implicitly assuming the asset's past performance is consistent with its future performance. This assumption holds for all historical VaR calculations including stocks, options, and portfolios.\n",
    "\n",
    "According to the **CFA Program Curriculum Textbook**, there are two formal ways to approach a Historical VaR calculation.\n",
    "\n",
    " - Absolute change, which follows Arithmetic Brownian Motion with constant absolute volatility.\n",
    " \n",
    " - Relative change, which follows Geometric Brownian Motion with constant relative volatility.\n",
    "\n",
    "\n",
    "In this class, we have been using the second approach.\n"
   ]
  },
  {
   "cell_type": "markdown",
   "metadata": {},
   "source": [
    "### Model Input\n",
    "\n"
   ]
  },
  {
   "cell_type": "markdown",
   "metadata": {},
   "source": [
    "This calculation is the easiest among all models, because the only required input parameter is the historical data of the portfolio and time horizons."
   ]
  },
  {
   "cell_type": "markdown",
   "metadata": {},
   "source": [
    "### Model Definition"
   ]
  },
  {
   "cell_type": "markdown",
   "metadata": {},
   "source": [
    "1. Calculate the returns (or price changes) of all the assets in the portfolio between each time interval.\n",
    "2. Apply the price changes calculated to the current mark-to-market value of the assets and re-value your portfolio.\n",
    "3. Sort the series of the portfolio-simulated P&L from the lowest to the highest value.\n",
    "4. Read the simulated value that corresponds to the desired confidence level, and the portfolio loss with rank $n(1 - \\alpha)$% is the $(1 - \\alpha)$% VaR of the portfolio."
   ]
  },
  {
   "cell_type": "markdown",
   "metadata": {},
   "source": [
    "### Advantage and Disadvantage"
   ]
  },
  {
   "cell_type": "markdown",
   "metadata": {},
   "source": [
    "One advantage of historical VaR is that it is extremely simple to calculate, which made it easy to explain to non-risk professionals. Many professionals consider there is no explicit assumption under the Historical VaR model, which means this approach is non-parametric.\n",
    "\n",
    "The biggest downside for this approach is that it implicitly assumes the past will exactly replicate the future, which seems to be very unlikely in reality. The other disadvantage of the historical simulation approach is that it can be very slow to react to changing market environments. Therefore, professionals adapt to a modified approach called \"hybrid\" method, which involves the use of decay factor."
   ]
  },
  {
   "cell_type": "markdown",
   "metadata": {},
   "source": [
    "## Monte Carlo VaR"
   ]
  },
  {
   "cell_type": "markdown",
   "metadata": {},
   "source": [
    "### Model Assumption"
   ]
  },
  {
   "cell_type": "markdown",
   "metadata": {},
   "source": [
    "The Monte Carlo approach involves developing a model for future stock price returns and running multiple hypothetical trials through the model. According to *Investopedia*, A Monte Carlo simulation refers to any method that randomly generates trials, but by itself does not tell us anything about the underlying methodology.\n",
    "\n",
    "When calculating Monte Carlo VaR, we typically need to make assumptions on the asset distribution. Most of the times, stock prices are assumed to follow a Geometric Brownian Motion and option values are calculated using the Black Scholes model."
   ]
  },
  {
   "cell_type": "markdown",
   "metadata": {},
   "source": [
    "### Model Input"
   ]
  },
  {
   "cell_type": "markdown",
   "metadata": {},
   "source": [
    "The inputs for Monte Carlo VaR is often very similar to those for Parametric VaR. Specifically, the portfolio returns, variance/covariance matrix, and time horizons are required."
   ]
  },
  {
   "cell_type": "markdown",
   "metadata": {},
   "source": [
    "### Model Definition"
   ]
  },
  {
   "cell_type": "markdown",
   "metadata": {},
   "source": [
    "#### Stock"
   ]
  },
  {
   "cell_type": "markdown",
   "metadata": {},
   "source": [
    "A list of parameters, such as return and standard deviation, can be obtained after calculating the parameters of component’s distributions. Then we can use this list of parameters to simulate the outcomes of the entire portfolio *n* times using the following equation:\n",
    "\n",
    "\n",
    "$$S_t = S_0 * e^{(\\mu-\\sigma^2/2)*t+\\sigma*W_t}$$"
   ]
  },
  {
   "cell_type": "markdown",
   "metadata": {},
   "source": [
    "#### Option"
   ]
  },
  {
   "cell_type": "markdown",
   "metadata": {},
   "source": [
    "We use Black Scholes equations to simulate the option prices. Black Scholes equations for option calculation are shown below:\n",
    "\n",
    "\n",
    "$$C=N(d_1)S_t-N(d_2)Ke^{-rt}$$\n",
    "\n",
    "$$P=N(-d_2)Ke^{-rt}-N(-d_1)S_t$$\n",
    "\n",
    "$$d_1=(\\ln(S_t/k)+(r+\\sigma^2/2))/\\sigma\\sqrt t$$\n",
    "\n",
    "$$d_2=d_1-\\sigma\\sqrt t$$\n"
   ]
  },
  {
   "cell_type": "markdown",
   "metadata": {},
   "source": [
    "After simulating the prices, we can then compute the value of portfolio at time *t* by combining all outcomes, which is simply the sum of each composite value multiplied by its number of shares. Then the loss of the portfolio can be calculated by substracting $V_t$ from $V_0$ for each outcome. Lastly, rank the series of losses of the portfolio from high to low, and the portfolio loss with rank $n(1 - \\alpha)$% is the $(1 - \\alpha)$% VaR of the portfolio."
   ]
  },
  {
   "cell_type": "markdown",
   "metadata": {},
   "source": [
    "### Advantage and Disadvantage"
   ]
  },
  {
   "cell_type": "markdown",
   "metadata": {},
   "source": [
    "According to *Treasury Today*, using Monte Carlo methods brings the following pros and const to the software:\n",
    "\n",
    "\n",
    "*Advantage:*\n",
    "\n",
    " - It can consider non-linear instruments.\n",
    " \n",
    " - It does not require significant numbers of historical observations.\n",
    " \n",
    " - It can consider a wider range of possible outcomes.\n",
    "\n",
    "*Disadvantage:*\n",
    "\n",
    " - The outcome of the simulation is dependent on how the simulation is built.\n",
    " \n",
    " - The calculation is quite complex and requires significant computational power. Thus, the calculation method is considered to be very expensive."
   ]
  },
  {
   "cell_type": "markdown",
   "metadata": {},
   "source": [
    "## Historical ES"
   ]
  },
  {
   "cell_type": "markdown",
   "metadata": {},
   "source": [
    "### Model Assumption "
   ]
  },
  {
   "cell_type": "markdown",
   "metadata": {},
   "source": [
    "Expected shortfall is also called conditional value at risk (CVaR), which is another risk measure, supplement to the VaR value. The Historical ES bears the same assumption as in Historical VaR, which assumes the asset's past performance is consistent with its future performance. This assumption holds for all historical VaR calculations including stocks, options, and portfolios."
   ]
  },
  {
   "cell_type": "markdown",
   "metadata": {},
   "source": [
    "### Model Input"
   ]
  },
  {
   "cell_type": "markdown",
   "metadata": {},
   "source": [
    "Same as the Historical VaR calculation, this calculation is the easiest among all models, because the only required input parameter is the historical data of the portfolio and time horizons."
   ]
  },
  {
   "cell_type": "markdown",
   "metadata": {},
   "source": [
    "### Model Definition"
   ]
  },
  {
   "cell_type": "markdown",
   "metadata": {},
   "source": [
    "1. Calculate the returns (or price changes) of all the assets in the portfolio between each time interval.\n",
    "2. Apply the price changes calculated to the current mark-to-market value of the assets and re-value your portfolio.\n",
    "3. Sort the series of the portfolio-simulated P&L from the lowest to the highest value.\n",
    "4. Read the simulated value that corresponds to the desired confidence level, the Historical ES at $\\alpha$ significance level is the average of the worst losses $n(1 - \\alpha)$% in the tail.\n"
   ]
  },
  {
   "cell_type": "markdown",
   "metadata": {},
   "source": [
    "### Advantage and Disadvantage"
   ]
  },
  {
   "cell_type": "markdown",
   "metadata": {},
   "source": [
    "Again, the advantage and disadvantage of using Historical ES is very similar to that of Historical VaR. The greatest advantage of using Historical ES is its simplicity.\n",
    "\n",
    "The biggest downside for this approach is that it implicitly assumes the past will exactly replicate the future, which seems to be very unlikely in reality. The other disadvantage of the historical simulation approach is that it can be very slow to react to changing market environments. "
   ]
  },
  {
   "cell_type": "markdown",
   "metadata": {},
   "source": [
    "## Monte Carlo ES"
   ]
  },
  {
   "cell_type": "markdown",
   "metadata": {},
   "source": [
    "### Model Assumption"
   ]
  },
  {
   "cell_type": "markdown",
   "metadata": {},
   "source": [
    "Similar to Monte Carlo VaR, users typically need to make assumptions on the asset distribution, depending on the specific requirement and market conditions. Most of the times, stock prices are assumed to follow a Geometric Brownian Motion and option values are calculated using the Black Scholes model."
   ]
  },
  {
   "cell_type": "markdown",
   "metadata": {},
   "source": [
    "### Model Input"
   ]
  },
  {
   "cell_type": "markdown",
   "metadata": {},
   "source": [
    "The inputs for Monte Carlo VaR is often very similar to those for Monte Carlo VaR. Specifically, the portfolio returns, variance/covariance matrix and time horizons are required."
   ]
  },
  {
   "cell_type": "markdown",
   "metadata": {},
   "source": [
    "### Model Definition"
   ]
  },
  {
   "cell_type": "markdown",
   "metadata": {},
   "source": [
    "1. Simulate each asset in the portfolio based on its model assumption.\n",
    "2. Calculate the value of portfolio at time t for all outcomes by summing up each composite value multiplied by its number of shares.\n",
    "3. Calculate the loss by subtracting $V_t$ from $V_0$ for each simulation outcome.\n",
    "4. Rank the losses from high to low, the Monte Carlo ES at $\\alpha$ significance level is the average of the worst losses $n(1 - \\alpha)$% in the tail."
   ]
  },
  {
   "cell_type": "markdown",
   "metadata": {},
   "source": [
    "### Advantage and Disadvantage"
   ]
  },
  {
   "cell_type": "markdown",
   "metadata": {},
   "source": [
    "Again, the pros and cons of using Monte Carlo ES are very similar to Monte Carlo VaR. Specifically, when assuming stock prices to follow a Geometric Brownian Motion and option values to follow the Black Scholes model, if any of the assumption under those two motion/model fails, the Monte Carlo ES result is not going to be valid."
   ]
  },
  {
   "cell_type": "markdown",
   "metadata": {},
   "source": [
    "$\\pagebreak$"
   ]
  },
  {
   "cell_type": "markdown",
   "metadata": {},
   "source": [
    "# Risk Modeling"
   ]
  },
  {
   "cell_type": "markdown",
   "metadata": {},
   "source": [
    "## Test Software"
   ]
  },
  {
   "cell_type": "markdown",
   "metadata": {},
   "source": [
    "The code is programed by Python language and a User Interface is created using Python Dash.\n",
    "\n",
    "This web-based risk calculation system aims to provide a user-friendly software for users getting known of risk indicators for an individual stock or portfolio. It allows users to enter basic attributes regarding their investment choice, and outputs graphs of VaR/ES with respect to time.\n",
    "\n",
    "A screenshot of the main panel is shown above:\n",
    "\n",
    "\n",
    "The link to our online user interface system is here:\n",
    "[Program Link](https://github.com/dreamiter/FRM-Final-Project)"
   ]
  },
  {
   "cell_type": "markdown",
   "metadata": {},
   "source": [
    "\n",
    "![Image1: User Interface](img/Image1.png)\n"
   ]
  },
  {
   "cell_type": "markdown",
   "metadata": {},
   "source": [
    "## Test Plan "
   ]
  },
  {
   "cell_type": "markdown",
   "metadata": {},
   "source": [
    "Model Risk Management typically consists two parts: Model Development and Model Validation. Developers in the Model Development team is in charge of building the platform and algorithms to make sure the underlying model is doing what it's supposed to be doing. On the other hand, model validation is a key area of research that can help mitigate model risk, and its important role in model risk management is the focus of this document. Detailed validation test plan step is listed below:\n",
    "\n",
    "1. Collect raw data and define testing criteria\n",
    "2. Pre-process raw data\n",
    "3. Define model assumptions\n",
    "4. Build and test different models (Parametric VaR, Historical VaR, Monte Carlo VaR, Historical ES, and Monte Carlo ES)\n",
    "5. Analyze result\n",
    "\n",
    "The ultimate goal of our software is for any portfolio, with any number of stocks and options."
   ]
  },
  {
   "cell_type": "markdown",
   "metadata": {},
   "source": [
    "## Data Collection"
   ]
  },
  {
   "cell_type": "markdown",
   "metadata": {},
   "source": [
    "### Data"
   ]
  },
  {
   "cell_type": "markdown",
   "metadata": {},
   "source": [
    "User has the option to type in any combinations of the stocks and options."
   ]
  },
  {
   "cell_type": "markdown",
   "metadata": {},
   "source": [
    "### Window size"
   ]
  },
  {
   "cell_type": "markdown",
   "metadata": {},
   "source": [
    "User has the option to pick 1 year, 5 year, and 10 year as the window size. A large enough window should be chosen to yield stable VaR and ES calculations. However, if the window is too large, the model is then tuned to be very slowly adjusted to market condition changes, which is not very ideal. On the other hand, if the window is too small, the VaR and ES calculation will be accurate on average, but the daily changes in VaR and ES will a high variance.\n",
    "\n",
    "According to our homework assignment, we have determined the window size of 5 year to be the most optimal value."
   ]
  },
  {
   "cell_type": "markdown",
   "metadata": {},
   "source": [
    "## System Requirements"
   ]
  },
  {
   "cell_type": "markdown",
   "metadata": {},
   "source": [
    "- Users are responsible to enter valid, reasonable inputs\n",
    "    - Tickers must be consistent with Yahoo finance\n",
    "    - For portfolio parts, weights must sum up to exactly 1\n",
    "- Users should make sure there is enough historical price data available from Yahoo finance, since the system will automatically retrieve data there. Enough data means that it has price history back until at least 10 years before the start date."
   ]
  },
  {
   "cell_type": "markdown",
   "metadata": {},
   "source": [
    "## System Instruction"
   ]
  },
  {
   "cell_type": "markdown",
   "metadata": {},
   "source": [
    "1. The system has 3 features: Individual Stock Only, Stock Portfolio, and Portfolio with Options\n",
    "2. For each of the feature, the following information needs to be entered:\n",
    "    - Ticker\n",
    "    - Starting/End Dates\n",
    "    - Window\n",
    "    - VaR/ES Percentage\n",
    "    - Weights\n",
    "    - Horizon\n",
    "    - Risk Method\n",
    "3. After hitting \"submit\" button, plots will be generated:\n",
    "    - Historical Price\n",
    "    - Parameter Mu\n",
    "    - Parameter Sigma\n",
    "    - VaR/ES\n",
    "    - Backtested Results VaR/Actual Loss"
   ]
  },
  {
   "cell_type": "markdown",
   "metadata": {},
   "source": [
    "$\\pagebreak$"
   ]
  },
  {
   "cell_type": "markdown",
   "metadata": {},
   "source": [
    "# Results Analysis (Using Sample Data)"
   ]
  },
  {
   "cell_type": "markdown",
   "metadata": {},
   "source": [
    "## Data"
   ]
  },
  {
   "cell_type": "markdown",
   "metadata": {},
   "source": [
    " For visualization purposes, we have selected the following stocks and options.\n",
    "\n",
    " - AAPL (Apple)\n",
    " \n",
    " - BAC (Bank of America)\n",
    " \n",
    " - GE (General Electric)\n",
    " \n",
    " - M (Macy's Inc)\n",
    "\n",
    "\n",
    "Here, we purposely selected four stocks from four different sectors. All the data came from Yahoo Finance.\n",
    "\n",
    "In terms of time period, since the inception of each stock varies, we have also aligned the data by joining the dates. The processed data ranges from Feb. 5th, 1992 to Dec. 10th, 2018.\n"
   ]
  },
  {
   "cell_type": "code",
   "execution_count": null,
   "metadata": {},
   "outputs": [],
   "source": []
  },
  {
   "cell_type": "code",
   "execution_count": null,
   "metadata": {},
   "outputs": [],
   "source": []
  },
  {
   "cell_type": "code",
   "execution_count": 97,
   "metadata": {},
   "outputs": [
    {
     "data": {
      "text/html": [
       "<div>\n",
       "<style scoped>\n",
       "    .dataframe tbody tr th:only-of-type {\n",
       "        vertical-align: middle;\n",
       "    }\n",
       "\n",
       "    .dataframe tbody tr th {\n",
       "        vertical-align: top;\n",
       "    }\n",
       "\n",
       "    .dataframe thead th {\n",
       "        text-align: right;\n",
       "    }\n",
       "</style>\n",
       "<table border=\"1\" class=\"dataframe\">\n",
       "  <thead>\n",
       "    <tr style=\"text-align: right;\">\n",
       "      <th></th>\n",
       "      <th>AAPL</th>\n",
       "      <th>BAC</th>\n",
       "      <th>GE</th>\n",
       "      <th>M</th>\n",
       "    </tr>\n",
       "    <tr>\n",
       "      <th>Date</th>\n",
       "      <th></th>\n",
       "      <th></th>\n",
       "      <th></th>\n",
       "      <th></th>\n",
       "    </tr>\n",
       "  </thead>\n",
       "  <tbody>\n",
       "    <tr>\n",
       "      <th>1992-02-05</th>\n",
       "      <td>2.361607</td>\n",
       "      <td>11.00000</td>\n",
       "      <td>6.458333</td>\n",
       "      <td>8.6250</td>\n",
       "    </tr>\n",
       "    <tr>\n",
       "      <th>1992-02-06</th>\n",
       "      <td>2.290179</td>\n",
       "      <td>11.34375</td>\n",
       "      <td>6.458333</td>\n",
       "      <td>8.4375</td>\n",
       "    </tr>\n",
       "    <tr>\n",
       "      <th>1992-02-07</th>\n",
       "      <td>2.285714</td>\n",
       "      <td>11.34375</td>\n",
       "      <td>6.437500</td>\n",
       "      <td>7.8125</td>\n",
       "    </tr>\n",
       "    <tr>\n",
       "      <th>1992-02-10</th>\n",
       "      <td>2.254464</td>\n",
       "      <td>11.28125</td>\n",
       "      <td>6.447917</td>\n",
       "      <td>7.5625</td>\n",
       "    </tr>\n",
       "    <tr>\n",
       "      <th>1992-02-11</th>\n",
       "      <td>2.245536</td>\n",
       "      <td>11.18750</td>\n",
       "      <td>6.416667</td>\n",
       "      <td>7.6875</td>\n",
       "    </tr>\n",
       "    <tr>\n",
       "      <th>1992-02-12</th>\n",
       "      <td>2.330357</td>\n",
       "      <td>11.37500</td>\n",
       "      <td>6.489583</td>\n",
       "      <td>7.9375</td>\n",
       "    </tr>\n",
       "    <tr>\n",
       "      <th>1992-02-13</th>\n",
       "      <td>2.294643</td>\n",
       "      <td>11.40625</td>\n",
       "      <td>6.447917</td>\n",
       "      <td>8.0000</td>\n",
       "    </tr>\n",
       "    <tr>\n",
       "      <th>1992-02-14</th>\n",
       "      <td>2.290179</td>\n",
       "      <td>11.34375</td>\n",
       "      <td>6.427083</td>\n",
       "      <td>7.8125</td>\n",
       "    </tr>\n",
       "    <tr>\n",
       "      <th>1992-02-18</th>\n",
       "      <td>2.241071</td>\n",
       "      <td>11.15625</td>\n",
       "      <td>6.427083</td>\n",
       "      <td>7.8125</td>\n",
       "    </tr>\n",
       "    <tr>\n",
       "      <th>1992-02-19</th>\n",
       "      <td>2.214286</td>\n",
       "      <td>11.00000</td>\n",
       "      <td>6.531250</td>\n",
       "      <td>8.0000</td>\n",
       "    </tr>\n",
       "  </tbody>\n",
       "</table>\n",
       "</div>"
      ],
      "text/plain": [
       "                AAPL       BAC        GE       M\n",
       "Date                                            \n",
       "1992-02-05  2.361607  11.00000  6.458333  8.6250\n",
       "1992-02-06  2.290179  11.34375  6.458333  8.4375\n",
       "1992-02-07  2.285714  11.34375  6.437500  7.8125\n",
       "1992-02-10  2.254464  11.28125  6.447917  7.5625\n",
       "1992-02-11  2.245536  11.18750  6.416667  7.6875\n",
       "1992-02-12  2.330357  11.37500  6.489583  7.9375\n",
       "1992-02-13  2.294643  11.40625  6.447917  8.0000\n",
       "1992-02-14  2.290179  11.34375  6.427083  7.8125\n",
       "1992-02-18  2.241071  11.15625  6.427083  7.8125\n",
       "1992-02-19  2.214286  11.00000  6.531250  8.0000"
      ]
     },
     "execution_count": 97,
     "metadata": {},
     "output_type": "execute_result"
    }
   ],
   "source": [
    "mergetable.head(10)"
   ]
  },
  {
   "cell_type": "code",
   "execution_count": 98,
   "metadata": {},
   "outputs": [
    {
     "data": {
      "text/html": [
       "<div>\n",
       "<style scoped>\n",
       "    .dataframe tbody tr th:only-of-type {\n",
       "        vertical-align: middle;\n",
       "    }\n",
       "\n",
       "    .dataframe tbody tr th {\n",
       "        vertical-align: top;\n",
       "    }\n",
       "\n",
       "    .dataframe thead th {\n",
       "        text-align: right;\n",
       "    }\n",
       "</style>\n",
       "<table border=\"1\" class=\"dataframe\">\n",
       "  <thead>\n",
       "    <tr style=\"text-align: right;\">\n",
       "      <th></th>\n",
       "      <th>AAPL</th>\n",
       "      <th>BAC</th>\n",
       "      <th>GE</th>\n",
       "      <th>M</th>\n",
       "    </tr>\n",
       "    <tr>\n",
       "      <th>Date</th>\n",
       "      <th></th>\n",
       "      <th></th>\n",
       "      <th></th>\n",
       "      <th></th>\n",
       "    </tr>\n",
       "  </thead>\n",
       "  <tbody>\n",
       "    <tr>\n",
       "      <th>2018-11-26</th>\n",
       "      <td>174.619995</td>\n",
       "      <td>27.559999</td>\n",
       "      <td>7.58</td>\n",
       "      <td>32.560001</td>\n",
       "    </tr>\n",
       "    <tr>\n",
       "      <th>2018-11-27</th>\n",
       "      <td>174.240005</td>\n",
       "      <td>27.740000</td>\n",
       "      <td>7.44</td>\n",
       "      <td>33.889999</td>\n",
       "    </tr>\n",
       "    <tr>\n",
       "      <th>2018-11-28</th>\n",
       "      <td>180.940002</td>\n",
       "      <td>28.430000</td>\n",
       "      <td>7.74</td>\n",
       "      <td>34.419998</td>\n",
       "    </tr>\n",
       "    <tr>\n",
       "      <th>2018-11-29</th>\n",
       "      <td>179.550003</td>\n",
       "      <td>28.040001</td>\n",
       "      <td>7.94</td>\n",
       "      <td>33.740002</td>\n",
       "    </tr>\n",
       "    <tr>\n",
       "      <th>2018-11-30</th>\n",
       "      <td>178.580002</td>\n",
       "      <td>28.400000</td>\n",
       "      <td>7.50</td>\n",
       "      <td>34.220001</td>\n",
       "    </tr>\n",
       "    <tr>\n",
       "      <th>2018-12-03</th>\n",
       "      <td>184.820007</td>\n",
       "      <td>28.540001</td>\n",
       "      <td>7.81</td>\n",
       "      <td>34.349998</td>\n",
       "    </tr>\n",
       "    <tr>\n",
       "      <th>2018-12-04</th>\n",
       "      <td>176.690002</td>\n",
       "      <td>26.990000</td>\n",
       "      <td>7.28</td>\n",
       "      <td>32.419998</td>\n",
       "    </tr>\n",
       "    <tr>\n",
       "      <th>2018-12-06</th>\n",
       "      <td>174.720001</td>\n",
       "      <td>26.280001</td>\n",
       "      <td>7.35</td>\n",
       "      <td>32.369999</td>\n",
       "    </tr>\n",
       "    <tr>\n",
       "      <th>2018-12-07</th>\n",
       "      <td>168.490005</td>\n",
       "      <td>25.430000</td>\n",
       "      <td>7.01</td>\n",
       "      <td>31.690001</td>\n",
       "    </tr>\n",
       "    <tr>\n",
       "      <th>2018-12-10</th>\n",
       "      <td>169.600006</td>\n",
       "      <td>24.760000</td>\n",
       "      <td>6.93</td>\n",
       "      <td>31.889999</td>\n",
       "    </tr>\n",
       "  </tbody>\n",
       "</table>\n",
       "</div>"
      ],
      "text/plain": [
       "                  AAPL        BAC    GE          M\n",
       "Date                                              \n",
       "2018-11-26  174.619995  27.559999  7.58  32.560001\n",
       "2018-11-27  174.240005  27.740000  7.44  33.889999\n",
       "2018-11-28  180.940002  28.430000  7.74  34.419998\n",
       "2018-11-29  179.550003  28.040001  7.94  33.740002\n",
       "2018-11-30  178.580002  28.400000  7.50  34.220001\n",
       "2018-12-03  184.820007  28.540001  7.81  34.349998\n",
       "2018-12-04  176.690002  26.990000  7.28  32.419998\n",
       "2018-12-06  174.720001  26.280001  7.35  32.369999\n",
       "2018-12-07  168.490005  25.430000  7.01  31.690001\n",
       "2018-12-10  169.600006  24.760000  6.93  31.889999"
      ]
     },
     "execution_count": 98,
     "metadata": {},
     "output_type": "execute_result"
    }
   ],
   "source": [
    "mergetable.tail(10)"
   ]
  },
  {
   "cell_type": "markdown",
   "metadata": {},
   "source": [
    "## Assumptions"
   ]
  },
  {
   "cell_type": "markdown",
   "metadata": {},
   "source": [
    "- Monte Carlo VaR and Parametric VaR calculations are under the assumption that each stock or each underlying follows GBM. For options, we model its corresponding underlying and then calculate the price.\n",
    "- We also assume options to be under fictionless scenario. In other words, the strike price and the time to maturity are unchanged from day to day.\n",
    "- Similar to what we did in homework, we assumed all options are ATM."
   ]
  },
  {
   "cell_type": "markdown",
   "metadata": {},
   "source": [
    "## Sample Results"
   ]
  },
  {
   "cell_type": "markdown",
   "metadata": {},
   "source": [
    "### Individual Stock Only"
   ]
  },
  {
   "cell_type": "markdown",
   "metadata": {},
   "source": [
    "$\\pagebreak$"
   ]
  },
  {
   "cell_type": "markdown",
   "metadata": {},
   "source": [
    "![Image2: Stock Historical Price - BAC](img/stock1.png)"
   ]
  },
  {
   "cell_type": "markdown",
   "metadata": {},
   "source": [
    "![Image3: Stock Mu - BAC](img/stock2.png)"
   ]
  },
  {
   "cell_type": "markdown",
   "metadata": {},
   "source": [
    "![Image4: Stock Sigma - BAC](img/stock3.png)"
   ]
  },
  {
   "cell_type": "markdown",
   "metadata": {},
   "source": [
    "![Image5: Stock VaR/ES - BAC](img/stock4.png)"
   ]
  },
  {
   "cell_type": "markdown",
   "metadata": {},
   "source": [
    "$\\pagebreak$"
   ]
  },
  {
   "cell_type": "markdown",
   "metadata": {},
   "source": [
    "### Portfolio"
   ]
  },
  {
   "cell_type": "markdown",
   "metadata": {},
   "source": [
    "![Image6: Portfolio Historical Price](img/port0.png)"
   ]
  },
  {
   "cell_type": "markdown",
   "metadata": {},
   "source": [
    "![Image7: Portfolio Mu (Parametric Method)](img/port1a.png)"
   ]
  },
  {
   "cell_type": "markdown",
   "metadata": {},
   "source": [
    "![Image8: Portfolio Sigma (Parametric Method)](img/port1b.png)"
   ]
  },
  {
   "cell_type": "markdown",
   "metadata": {},
   "source": [
    "![Image9: Portfolio VaR/ES (Parametric Method)](img/port1c.png)"
   ]
  },
  {
   "cell_type": "markdown",
   "metadata": {},
   "source": [
    "![Image10: Portfolio VaR/Actual Loss (Parametric Method)](img/port1d.png)"
   ]
  },
  {
   "cell_type": "markdown",
   "metadata": {},
   "source": [
    "![Image11: Portfolio Mu (Historical Method)](img/port2a.png)"
   ]
  },
  {
   "cell_type": "markdown",
   "metadata": {},
   "source": [
    "![Image12: Portfolio Sigma (Historical Method)](img/port2b.png)"
   ]
  },
  {
   "cell_type": "markdown",
   "metadata": {},
   "source": [
    "![Image13: Portfolio VaR/ES (Historical Method)](img/port2c.png)"
   ]
  },
  {
   "cell_type": "markdown",
   "metadata": {},
   "source": [
    "![Image14: Portfolio VaR/Actual Loss (Historical Method)](img/port2d.png)"
   ]
  },
  {
   "cell_type": "markdown",
   "metadata": {},
   "source": [
    "![Image15: Portfolio Mu (Monte Carlo Method)](img/port3a.png)"
   ]
  },
  {
   "cell_type": "markdown",
   "metadata": {},
   "source": [
    "![Image16: Portfolio Sigma (Monte Carlo Method)](img/port3b.png)"
   ]
  },
  {
   "cell_type": "markdown",
   "metadata": {},
   "source": [
    "![Image17: Portfolio VaR/ES (Monte Carlo Method)](img/port3c.png)"
   ]
  },
  {
   "cell_type": "markdown",
   "metadata": {},
   "source": [
    "![Image18: Portfolio VaR/Actual Loss (Monte Carlo Method)](img/port3d.png)"
   ]
  },
  {
   "cell_type": "markdown",
   "metadata": {},
   "source": [
    "$\\pagebreak$\n"
   ]
  },
  {
   "cell_type": "markdown",
   "metadata": {},
   "source": [
    "# Conclusion"
   ]
  },
  {
   "cell_type": "markdown",
   "metadata": {},
   "source": [
    "Our portfolio VaR calculation model uses three different methods, which are Parametric VaR, historical VaR, and Monte Carlo VaR. As we know, there are difference assumptions and derivations, so each method has advantages and limitations. The advantage of this model is its portfolio flexibility since both stocks and options can be included in the portfolio. Additionally, there is no limitation on the long short positions of each element and also on the number of elements in a portfolio. Everyone can choose the best model based on different assumptions.\n",
    "\n",
    "Users have to understand the details of each VaR calculation method to select their ideal VaR Calculation method. For parametric VaR, the advantages are fast calculation and easy to understand. The major limitation is that when the actual distribution of portfolio value is not normal or the portfolio payoff is not linear, this method will not be accurate. When the actual distribution is fat-tailed, parametric VaR is underestimated. The advantage of historical VaR is that it does not have any assumption of distribution. When portfolio distribution is not normal and historical performance correctly predicts the future performance, the historical VaR will give accurate VaR estimation. However, historical VaR method requires a larger amount of data and the calculation time is longer than parametric VaR method. Lastly, the advantage of Monte Carlo VaR is its insensitivity to linearity. Therefore, it is useful when options are included in the portfolio. Nevertheless, computation speed of Monte Carlo VaR is very low because it needs to generate a large number of simulations. Additionally, the approximation of option VaR is also another limitation of this model.\n",
    "\n",
    "When the assumptions of the Black-Scholes model do not hold, historical and Monte Carlo methods will not accurate estimate the option VaR. And due to delta approach in parametric VaR, if the underlying stock price changes by a large amount, estimation will be less accurate. This can be improved by applying the Taylors expansion in option VaR estimation."
   ]
  },
  {
   "cell_type": "markdown",
   "metadata": {},
   "source": [
    "$\\pagebreak$"
   ]
  },
  {
   "cell_type": "markdown",
   "metadata": {},
   "source": [
    "# References"
   ]
  },
  {
   "cell_type": "markdown",
   "metadata": {},
   "source": [
    "1. Dash User Guide and Documentation - Dash by Plotly, dash.plot.ly/getting-started.\n",
    "2. Harper, David R. “An Introduction to Value at Risk (VAR).” Investopedia, Investopedia, 20 Nov. 2018, www.investopedia.com/articles/04/092904.asp.\n",
    "3. Stein, H. J. (2018).Financial Risk Management and Regulation Lecture 1: Market Risk [PowerPoint slides]\n",
    "4. Stein, H. J. (2018).Financial Risk Management and Regulation Lecture 2: Market Risk [PowerPoint slides]\n",
    "5. Stein, H. J. (2018).Financial Risk Management and Regulation Lecture 3: Market Risk [PowerPoint slides]\n",
    "6. Stein, H. J. (2018).Financial Risk Management and Regulation Lecture 4: Market Risk [PowerPoint slides]\n",
    "7. Stein, H. J. (2018).Financial Risk Management and Regulation Lecture 5: Market Risk [PowerPoint slides]\n",
    "8. “Value at Risk or Expected Shortfall.” Quantdare, 21 Sept. 2018, www.quantdare.com/value-at-risk-or-expected-shortfall/.\n",
    "9. “Value at Risk – Monte Carlo Simulation.” Edited by Treasury Today 2018, Calculating WACC – an Art Not a Science | Treasury Today, www.treasurytoday.com/2002/02/value-at-risk-monte-carlo-simulation.\n"
   ]
  },
  {
   "cell_type": "markdown",
   "metadata": {},
   "source": [
    "$\\pagebreak$"
   ]
  },
  {
   "cell_type": "markdown",
   "metadata": {},
   "source": [
    "# Appendix"
   ]
  },
  {
   "cell_type": "code",
   "execution_count": 99,
   "metadata": {},
   "outputs": [],
   "source": [
    "# import packages\n",
    "\n",
    "import pandas_datareader.data as web\n",
    "import datetime\n",
    "import pandas as pd\n",
    "import numpy as np\n",
    "import scipy.stats as stat\n",
    "import dateutil.relativedelta\n",
    "import sys\n",
    "\n",
    "from bokeh.io import output_notebook, show\n",
    "from bokeh.plotting import figure\n",
    "from bokeh.layouts import column\n",
    "from bokeh.models import Legend\n",
    "from __future__ import division\n",
    "\n",
    "import dash\n",
    "import dash_core_components as dcc\n",
    "import dash_html_components as html"
   ]
  },
  {
   "cell_type": "code",
   "execution_count": 100,
   "metadata": {},
   "outputs": [],
   "source": [
    "# Price plot\n",
    "\n",
    "def plot_price(price, length):\n",
    "    data = price[:length]\n",
    "    output_notebook()    \n",
    "    plot = figure(width=600, height=400, \n",
    "                  title = \"Historical Prices\", x_axis_type=\"datetime\")\n",
    "    plot.line(data.index, data)\n",
    "    plot.title.text_font_size = '11pt'\n",
    "    show(plot)"
   ]
  },
  {
   "cell_type": "code",
   "execution_count": 101,
   "metadata": {},
   "outputs": [],
   "source": [
    "# Calculate estimated parameters for GBM based on x year (in days) rolling windows\n",
    "\n",
    "def gbm_est(prices, window_days):\n",
    "    rtn = -np.diff(np.log(prices))\n",
    "    rtnsq = rtn * rtn\n",
    "    mubar = list(reversed(np.convolve(rtn, \n",
    "                 np.ones((window_days,))/window_days, mode='valid')))\n",
    "    x2bar = list(reversed(np.convolve(rtnsq, \n",
    "                 np.ones((window_days,))/window_days, mode='valid')))\n",
    "    var = x2bar - np.square(mubar)\n",
    "    sigmabar = np.sqrt(np.maximum(var, np.zeros(len(var))))\n",
    "    sigma = sigmabar / np.sqrt(1/252)\n",
    "    mu = np.array(mubar)*252 + np.square(sigma)/2\n",
    "    return rtn, mu, sigma, np.array(mubar), sigmabar"
   ]
  },
  {
   "cell_type": "code",
   "execution_count": 102,
   "metadata": {},
   "outputs": [],
   "source": [
    "# Parameters plot\n",
    "\n",
    "def plot_parameters(price):\n",
    "    rtn_2, mu_2, sigma_2, mubar_2, sigmabar_2 = gbm_est(price, 2*252)\n",
    "    rtn_5, mu_5, sigma_5, mubar_5, sigmabar_5 = gbm_est(price, 5*252)\n",
    "    rtn_10, mu_10, sigma_10, mubar_10, sigmabar_10 = gbm_est(price, 10*252)\n",
    "    length = min(len(mu_2), len(mu_5), len(mu_10), \n",
    "                 len(sigma_2), len(sigma_5), len(sigma_10))\n",
    "    mu = pd.DataFrame({'Mu_2': mu_2[:length], \n",
    "                       'Mu_5': mu_5[:length], \n",
    "                       'Mu_10': mu_10[:length]}, \n",
    "                      index = price.index[:length])\n",
    "    sigma = pd.DataFrame({'Sigma_2': sigma_2[:length], \n",
    "                          'Sigma_5': sigma_5[:length], \n",
    "                          'Sigma_10': sigma_10[:length]}, \n",
    "                         index = price.index[:length])\n",
    "    output_notebook()    \n",
    "    pmu = figure(width=600, height=400, \n",
    "                 title = \"Parameter - Mu\", x_axis_type=\"datetime\")\n",
    "    pmu.line(mu.index, mu['Mu_2'], legend = '2-year roling window')\n",
    "    pmu.line(mu.index, mu['Mu_5'], \n",
    "             color = 'green', legend = '5-year roling window')\n",
    "    pmu.line(mu.index, mu['Mu_10'], \n",
    "             color = 'orange', legend = '10-year roling window')\n",
    "    pmu.title.text_font_size = '11pt'\n",
    "    pmu.legend.location = 'bottom_right'\n",
    "    pmu.legend.background_fill_alpha = 0.5\n",
    "    psigma = figure(width=600, height=400, \n",
    "                    title = \"Parameter - Sigma\", x_axis_type=\"datetime\")\n",
    "    psigma.line(mu.index, sigma['Sigma_2'], \n",
    "                legend = '2-year roling window')\n",
    "    psigma.line(mu.index, sigma['Sigma_5'], \n",
    "                color = 'green', legend = '5-year roling window')\n",
    "    psigma.line(mu.index, sigma['Sigma_10'], \n",
    "                color = 'orange', legend = '10-year roling window')\n",
    "    psigma.title.text_font_size = '11pt'\n",
    "    psigma.legend.location = 'top_right'\n",
    "    psigma.legend.background_fill_alpha = 0.5\n",
    "    plot = column(pmu, psigma)\n",
    "    show(plot)"
   ]
  },
  {
   "cell_type": "code",
   "execution_count": 103,
   "metadata": {},
   "outputs": [],
   "source": [
    "# Calculate VaR and ES using parametric method\n",
    "\n",
    "def parametric(v0, mu, sigma, VaR_prob, ES_prob, t):\n",
    "    VaR = v0 - v0 * np.exp(\n",
    "        sigma * np.sqrt(t) * stat.norm.ppf(1-VaR_prob) + (mu - np.square(sigma)/2) * t)\n",
    "    ES = v0 * (1 - np.array(\n",
    "        stat.norm.cdf(stat.norm.ppf(1-ES_prob) - np.sqrt(t)*sigma)) \n",
    "               * np.array(np.exp(mu*t)/(1-ES_prob)))\n",
    "    return VaR, ES"
   ]
  },
  {
   "cell_type": "code",
   "execution_count": 104,
   "metadata": {},
   "outputs": [],
   "source": [
    "# Calculate VaR and ES using historical method\n",
    "\n",
    "def historical(v0, price, VaR_prob, ES_prob, window_days, horizon_days):\n",
    "    npaths = window_days - horizon_days\n",
    "    ntrials = len(price) - window_days\n",
    "    price_log = np.log(price)\n",
    "    return_xdays = np.array(\n",
    "        price_log[:(len(price_log)-horizon_days)]) - np.array(price_log[5:])\n",
    "    price_res = v0 * np.exp(return_xdays)\n",
    "    scenarios = np.zeros(shape=(npaths,ntrials))\n",
    "    for i in range(ntrials):\n",
    "        scenarios[0:npaths,i] = price_res[i:i+npaths]\n",
    "    scenarios_sorted = np.sort(scenarios, axis=0)\n",
    "    VaR = v0 - scenarios_sorted[np.ceil((1-VaR_prob)*npaths).astype(int) - 1]\n",
    "    ES = v0 - np.mean(\n",
    "        scenarios_sorted[0:(np.ceil((1-ES_prob)*npaths).astype(int))], axis=0)\n",
    "    return VaR, ES"
   ]
  },
  {
   "cell_type": "code",
   "execution_count": 105,
   "metadata": {},
   "outputs": [],
   "source": [
    "# Calculate VaR and ES using Monte Carlo method\n",
    "\n",
    "def monte_carlo(v0, price, mu, sigma, VaR_prob, ES_prob, window_days, horizon):\n",
    "    npaths = 5000\n",
    "    ntrials = len(price) - window_days\n",
    "    p1 = np.zeros(shape=(npaths,ntrials))\n",
    "    for i in range(ntrials):\n",
    "        tv = np.ones(shape =(npaths,1))*horizon\n",
    "        bm = np.sqrt(horizon) * np.random.randn(npaths,1)\n",
    "        y = v0 * np.exp(sigma[i] * bm - (mu[i] + sigma[i]*sigma[i]/2) * tv)\n",
    "        p1[:,i] = y[:,0]\n",
    "    p2 = np.sort(p1,axis = 0)\n",
    "    VaR = v0 - p2[np.ceil((1-VaR_prob)*npaths).astype(int) - 1]\n",
    "    ES = v0 - np.mean(p2[0:(np.ceil((1-ES_prob)*npaths).astype(int))], axis=0)\n",
    "    return VaR, ES"
   ]
  },
  {
   "cell_type": "code",
   "execution_count": 106,
   "metadata": {},
   "outputs": [],
   "source": [
    "# VaR/ES plot\n",
    "\n",
    "def plot_risk(v0, price, VaR_prob, ES_prob, method, window, horizon, plot_length):\n",
    "    if method == 'Parametric Method':\n",
    "        rtn, mu, sigma, mubar, sigmabar = gbm_est(price, window*252)\n",
    "        VaR, ES = parametric(v0, mu, sigma, VaR_prob, ES_prob, horizon)\n",
    "    elif method == 'Historical Method':\n",
    "        VaR, ES = historical(v0, price, VaR_prob, \n",
    "                             ES_prob, int(window*252), int(horizon*252))\n",
    "    elif method == 'Monte Carlo':\n",
    "        rtn, mu, sigma, mubar, sigmabar = gbm_est(price, window*252)\n",
    "        VaR, ES = monte_carlo(v0, price, mu, sigma, \n",
    "                              VaR_prob, ES_prob, window*252, horizon)\n",
    "    else:\n",
    "        sys.exit('Error!')\n",
    "        \n",
    "    length = min(len(VaR), len(ES), plot_length)\n",
    "    VaR_ES = pd.DataFrame({'VaR': VaR[:length], 'ES': ES[:length]}, \n",
    "                          index = price.index[:plot_length])\n",
    "    plot = figure(width=600, height=400, title = \"VaR/ES\", x_axis_type=\"datetime\")\n",
    "    plot.line(VaR_ES.index, VaR_ES['VaR'], color = 'green', legend = 'VaR')\n",
    "    plot.line(VaR_ES.index, VaR_ES['ES'], color = 'blue', legend = 'ES')\n",
    "    plot.legend.location = 'bottom_left'\n",
    "    plot.title.text_font_size = '11pt'\n",
    "    \n",
    "    share_change = np.divide(price[:(len(price)-int(horizon*252))], \n",
    "                             price[int(horizon*252):])\n",
    "    loss = v0 - share_change * v0\n",
    "    length_loss = min(len(loss), len(VaR), plot_length)\n",
    "    test = pd.DataFrame({'VaR': VaR[int(horizon*252):length_loss], \n",
    "                         'Loss': loss[:(length_loss-int(horizon*252))]},\n",
    "                   index = price.index[int(horizon*252):length_loss])  \n",
    "    plot_test = figure(width=600, height=400, \n",
    "                       title = \"VaR/ActualLoss\", x_axis_type=\"datetime\")\n",
    "    plot_test.line(test.index, test['VaR'], color = 'green', legend = 'VaR')\n",
    "    plot_test.line(test.index, test['Loss'], color = 'blue', legend = 'Actual Loss')\n",
    "    plot_test.legend.location = 'bottom_left'\n",
    "    plot_test.title.text_font_size = '11pt'\n",
    "    output_notebook()  \n",
    "    show(column(plot,plot_test))"
   ]
  },
  {
   "cell_type": "code",
   "execution_count": 107,
   "metadata": {},
   "outputs": [],
   "source": [
    "# Black Scholes method to calculate put option price\n",
    "\n",
    "def bs_put(stock, rf, sigma, strike, maturity):\n",
    "    sigrt = 1/(sigma*np.sqrt(maturity))\n",
    "    sig2 = sigma*sigma/2\n",
    "    lsk = np.log(stock/strike)\n",
    "    ert = np.exp(-rf*maturity)\n",
    "    d1 = sigrt*(lsk+(rf+sig2)*maturity)\n",
    "    d2 = sigrt*(lsk+(rf-sig2)*maturity)\n",
    "    pr = stat.norm.cdf(-d2)*strike*ert-stat.norm.cdf(-d1)*stock\n",
    "    return pr"
   ]
  },
  {
   "cell_type": "code",
   "execution_count": 108,
   "metadata": {},
   "outputs": [],
   "source": [
    "# Compute MC VaR for portfolio of a stock and a put option. \n",
    "# % the stocks, assuming option implied vols are unchanged.\n",
    "\n",
    "def option_mc(s0, mu, sigma, rf, iv, strike, mat, nstocks, nputs, VaR_prob, horizon):\n",
    "    npaths = 1000000\n",
    "    tv = np.ones(shape =(npaths,1))*horizon\n",
    "    bm = np.sqrt(horizon) * np.random.randn(npaths,1)\n",
    "    st = s0 * np.exp(sigma * bm - (mu + sigma*sigma/2) * tv)\n",
    "    vtStock = st * nstocks\n",
    "    v0Stock = s0 * nstocks\n",
    "    putt = bs_put(st, rf, iv, strike, mat-horizon)\n",
    "    vtPut = nputs * putt\n",
    "    put0 = bs_put(s0, rf, iv, strike, mat)\n",
    "    v0Put = nputs * put0\n",
    "    loss = v0Stock + v0Put - (vtStock + vtPut)\n",
    "    VaR = np.percentile(loss, 100*VaR_prob)\n",
    "    return VaR"
   ]
  },
  {
   "cell_type": "code",
   "execution_count": 109,
   "metadata": {},
   "outputs": [],
   "source": [
    "# Option portfolio calculations\n",
    "\n",
    "def options_cal(options, rf, mat, imp_vol, v0, liq_rate, VaR_prob, window, horizon):\n",
    "    rtn, mu, sigma, mubar, sigmabar = gbm_est(options, window*252)\n",
    "    mu = mu[0]\n",
    "    sigma = sigma[0]\n",
    "    VaR_1, ES_1 = parametric(v0, mu, sigma, VaR_prob, 0.975, horizon)\n",
    "    s0 = options[0]\n",
    "    strike = options[0]\n",
    "    nstocks = v0 * (1-liq_rate) / s0\n",
    "    put0 = bs_put(s0, rf, imp_vol, strike, mat)\n",
    "    nputs = v0 * liq_rate / put0\n",
    "    VaR_2 = option_mc(s0, mu, sigma, rf, \n",
    "                      imp_vol, strike, mat, nstocks, nputs, VaR_prob, horizon)\n",
    "    reduction = 100*(1-VaR_2/VaR_1)\n",
    "    return s0, nstocks, put0, nputs, VaR_1, VaR_2, reduction"
   ]
  }
 ],
 "metadata": {
  "celltoolbar": "Raw Cell Format",
  "kernelspec": {
   "display_name": "Python 3",
   "language": "python",
   "name": "python3"
  },
  "language_info": {
   "codemirror_mode": {
    "name": "ipython",
    "version": 3
   },
   "file_extension": ".py",
   "mimetype": "text/x-python",
   "name": "python",
   "nbconvert_exporter": "python",
   "pygments_lexer": "ipython3",
   "version": "3.6.5"
  }
 },
 "nbformat": 4,
 "nbformat_minor": 2
}
